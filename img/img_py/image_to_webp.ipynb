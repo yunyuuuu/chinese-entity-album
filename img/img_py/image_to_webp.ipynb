{
 "cells": [
  {
   "cell_type": "code",
   "execution_count": 11,
   "id": "6e3f82c2",
   "metadata": {},
   "outputs": [],
   "source": [
    "import requests\n",
    "from lxml import etree\n",
    "import pandas as pd\n",
    "import os\n",
    "from PIL import Image\n",
    "import webp"
   ]
  },
  {
   "cell_type": "code",
   "execution_count": 12,
   "id": "34dd982c",
   "metadata": {},
   "outputs": [],
   "source": [
    "file_handle = pd.read_csv('E:/the economist/数字专辑/data/data.csv', encoding= 'UTF-8')\n",
    "\n",
    "handle1 = list(set(file_handle['digit_album_img'].values.tolist()))\n",
    "handle2 = list(set(file_handle['entity_img'].values.tolist()))"
   ]
  },
  {
   "cell_type": "code",
   "execution_count": 14,
   "id": "e45c79eb",
   "metadata": {},
   "outputs": [],
   "source": [
    "for i in range(len(file_handle)):\n",
    "#     digit_url = file_handle.loc[i, 'digit_album_img']\n",
    "#     # 下载图片\n",
    "#     r = requests.get(digit_url)\n",
    "#     index = digit_url.rfind('/')+1\n",
    "#     img_link=digit_url[index:]\n",
    "#     with open('E:/the economist/数字专辑/img/digit/'+ str(i)+'.png', 'wb') as f:\n",
    "#         f.write(r.content)\n",
    "#     f.close()\n",
    "    entity_url = file_handle.loc[i, 'entity_img']\n",
    "    if not pd.isna(entity_url):\n",
    "        r = requests.get(entity_url)\n",
    "        index = entity_url.rfind('/')+1\n",
    "        img_link=entity_url[index:]\n",
    "        with open('E:/the economist/数字专辑/img/entity/'+str(i)+'.webp', 'wb') as f:\n",
    "            f.write(r.content)\n",
    "        f.close()"
   ]
  },
  {
   "cell_type": "code",
   "execution_count": 28,
   "id": "4208f087",
   "metadata": {},
   "outputs": [],
   "source": [
    "#转webp\n",
    "for i in range(439,len(file_handle)):\n",
    "    path = 'E:/the economist/数字专辑/img/digit/png/'+ str(i)+'.png'\n",
    "    im = Image.open(path)\n",
    "    webp.save_image(im,\"E:/the economist/数字专辑/img/digit/\" + str(i) + \".webp\",quality=100)\n",
    "    \n",
    "#     entity_url = file_handle.loc[i, 'entity_img']\n",
    "#     if not pd.isna(entity_url) & i != 47:\n",
    "#         path = 'E:/the economist/数字专辑/img/entity/png/'+ str(i)+'.png'\n",
    "#         im = Image.open(path)\n",
    "#         webp.save_image(im,\"E:/the economist/数字专辑/img/entity/\" + str(i) + \".webp\",quality=100)"
   ]
  },
  {
   "cell_type": "code",
   "execution_count": null,
   "id": "8f330379",
   "metadata": {},
   "outputs": [],
   "source": []
  }
 ],
 "metadata": {
  "kernelspec": {
   "display_name": "Python 3 (ipykernel)",
   "language": "python",
   "name": "python3"
  },
  "language_info": {
   "codemirror_mode": {
    "name": "ipython",
    "version": 3
   },
   "file_extension": ".py",
   "mimetype": "text/x-python",
   "name": "python",
   "nbconvert_exporter": "python",
   "pygments_lexer": "ipython3",
   "version": "3.9.7"
  }
 },
 "nbformat": 4,
 "nbformat_minor": 5
}
